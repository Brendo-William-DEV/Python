{
  "nbformat": 4,
  "nbformat_minor": 0,
  "metadata": {
    "colab": {
      "name": "lista 5",
      "provenance": [],
      "collapsed_sections": []
    },
    "kernelspec": {
      "name": "python3",
      "display_name": "Python 3"
    }
  },
  "cells": [
    {
      "cell_type": "code",
      "metadata": {
        "id": "bJK4qnloUo8Z"
      },
      "source": [
        "#Disciplina: Probabilidade e Estatística\n",
        "# Aluno: Brendo William de Souza Faria\n",
        "# Lista 5"
      ],
      "execution_count": null,
      "outputs": []
    },
    {
      "cell_type": "code",
      "metadata": {
        "id": "D1hGc-iCEb1n"
      },
      "source": [
        "#1.Escreva em python uma lista com os valores mostrados acima e calcule:\n",
        "#a) Média aritmética simples\n",
        "import statistics\n",
        "listaG = ['A', 'B', 'C', 'D', 'E', 'F', 'G', 'H']\n",
        "listaC = [10, 13, 17, 9, 8, 11, 13, 7]\n",
        "for x,y in zip(listaG, listaC):\n",
        "  print(x,y)\n",
        "print('--------------')\n",
        "medidaa = (10 + 13 + 17 + 9 + 8 + 11 + 13 + 7)/8 #calculo\n",
        "print('A Média aritmética é', medidaa )\n",
        "\n",
        "#b) Média harmônica;\n",
        "listaC = [10, 13, 17, 9, 8, 11, 13, 7]\n",
        "harmonico = round(statistics.harmonic_mean(listaC), 2) \n",
        "print('A Média harmônica é', harmonico)\n",
        "\n",
        "#c) Média geométrica;\n",
        "geom = (10*13*17*9*8*11*13*7) ** (1/8)#calculo \n",
        "print('A Média geométrica é', geom)\n",
        "\n",
        "#d) Moda;\n",
        "print('A Média Moda é', statistics.mode(listaC))#chama na biblioteca e executa a lista \n",
        "\n",
        "#e) Variância;\n",
        "varis = variancia = round(statistics.variance(listaC), 2)#chama na biblioteca e executa a lista \n",
        "print('A Média Variância é', varis)\n",
        "#f) Desvio padrão.\n",
        "raiz = 10.57** 0.5 #faz o calculo da raiz \n",
        "print(raiz)"
      ],
      "execution_count": null,
      "outputs": []
    },
    {
      "cell_type": "code",
      "metadata": {
        "id": "8_6V0jrFbNC5"
      },
      "source": [
        "#2.Escreva em python uma lista com os valores mostrados acima e calcule:\n",
        "ansiedade = [67, 75, 63, 72, 77, 78, 81, 77, 80]\n",
        "print(ansiedade)\n",
        "import statistics\n",
        "print('--------------')\n",
        "#a) Média aritmética simples, harmônica e geométrica\n",
        "mediaaa = (67 + 75 + 63 + 72 + 77 + 78 + 81 + 77 + 80)/9\n",
        "harmonico2 = round(statistics.harmonic_mean(ansiedade), 2) \n",
        "geom2 = (67*75*63*72*77*78*81*77*80) ** (1/9)\n",
        "print('A aritmética simples:', mediaaa, 'Harmônica:', harmonico2, 'Geométrica', geom2 )#as 3 unidas em uma so chamada \n",
        "#b) Moda;\n",
        "print('A Média Moda é', statistics.mode(ansiedade))#chama na biblioteca e executa a lista\n",
        "#c) Mediana;\n",
        "mediana = round(statistics.median(ansiedade), 2) # Calcula Mediana\n",
        "print('A Mediana é:', mediana)\n",
        "#d) Variância;\n",
        "varis2 = variancia = round(statistics.variance(ansiedade), 2)#chama na biblioteca e executa a lista \n",
        "print('A Média Variância é', varis2)\n",
        "#e) Desvio padrão;\n",
        "raiz2 = 36.53** 0.5 #faz o calculo da raiz \n",
        "print('O Desvio padrão é', raiz2)"
      ],
      "execution_count": null,
      "outputs": []
    },
    {
      "cell_type": "code",
      "metadata": {
        "id": "iHd9Tm8qbSu-"
      },
      "source": [
        "#3.Calcule o coeficiente de variação desse conjunto de dados\n",
        "import statistics\n",
        "leite = [4.0, 4.5, 5.0, 5.0, 5.0, 5.5, 6.0, 6.0, 6.5, 6.5, 6.5, 6.5, 7.0, 7.0, 7.0, 7.0, 7.0, 7.0, 7.5, 8.5, 9.0, 9.0, 9.0, 9.5, 10.0, 10.0, 10.5, 10.5, 11.0, 12.0, 12.5, 13.0, 13.0 ]\n",
        "DesviO = statistics.stdev(leite)\n",
        "Media2 = statistics.mean(leite)\n",
        "c1 = DesviO/Media2\n",
        "print('O Coeficiente de Variação é', round(100*c1, 2), '%')"
      ],
      "execution_count": null,
      "outputs": []
    },
    {
      "cell_type": "code",
      "metadata": {
        "id": "ivwJmU3JbWEH"
      },
      "source": [
        "#4.\n",
        "import statistics\n",
        "cafe = (12, 15, 18, 22, 17, 14, 18, 23, 29, 12)\n",
        "#a)Calcule o valor da produção média.\n",
        "mediaC = (12 + 15 + 18 + 22 + 17 + 14 + 18 + 23 + 29 + 12)/10\n",
        "print('A Méida de Café é', mediaC)\n",
        "\n",
        "#b)Calcule o valor da mediana da produção \n",
        "medianaC = round(statistics.median(cafe), 2)\n",
        "print('A Mediana do Café é', medianaC)\n",
        "#c)Calcule o valor dao desvio padrão da produção.\n",
        "varis3 = variancia = round(statistics.variance(cafe), 2)#chama na biblioteca e executa a lista \n",
        "raiz4 = 28.89** 0.5 #faz o calculo da raiz \n",
        "print('O Desvio padrão de Café é', raiz4)\n"
      ],
      "execution_count": null,
      "outputs": []
    },
    {
      "cell_type": "code",
      "metadata": {
        "id": "MLf2fM_1bYNO"
      },
      "source": [
        "#5.Escreva em Python um algoritmo que solicite para o usuário inserir notas de alunos entre 0 e 10 em um loop infinito com condição de parada uma nota igual a -999. A cada iteração valide que a nota seja entre 0 e 10 e solicite uma nota correta em caso de erro.\n",
        "import statistics\n",
        "from scipy.stats.mstats import gmean\n",
        "notas = []\n",
        "contador = 1\n",
        "while True:\n",
        "  notadoaluno = input('Insira a nota do %s, aluno é para sair digite: -999 ' %contador)\n",
        "  if notadoaluno == '-999': # digitando -999 para finalizar o código \n",
        "    break\n",
        "  try:\n",
        "    notadoaluno = int(notadoaluno)\n",
        "    if notadoaluno >= 0 and notadoaluno <= 10: # verificação da nota do aluno\n",
        "      contador += 1 # + 1 na contagem\n",
        "      notas.append(notadoaluno) #lista notas     \n",
        "    else:\n",
        "      print('A nota do',contador, 'aluno precisa ser entre 0 e 10.')\n",
        "  except:\n",
        "    print('Digite uma NOTA VÁLIDA!')\n",
        "#a) Média aritmética simples;\n",
        "media5 = round(statistics.mean(notas), 2)\n",
        "print( 'A Média aritmética simples é', media5)\n",
        "#b) Média harmônica;\n",
        "harmonico3 = round(statistics.harmonic_mean(notas), 2)\n",
        "print('A Média harmônica é',harmonico3 )\n",
        "#c) Média geométrica;\n",
        "geom5 = round(gmean(notas), 2)\n",
        "print('A Média geométrica', geom5)\n",
        "#d) Moda;\n",
        "try:\n",
        "  moda5 = round(statistics.mode(notas), 2)\n",
        "  print('A Moda é', moda5)\n",
        "except:\n",
        "  print('Não a moda!')\n",
        "#e) Variância;\n",
        "varian2 = round(statistics.variance(notas), 2)\n",
        "print('A variancia é', varian2)\n",
        "#f) Desvio padrão;\n",
        "des2 = round(statistics.stdev(notas), 2)\n",
        "print('O Desvio de padrão é', des2)\n",
        "#g) Coeficiente de variância.\n",
        "coef5 = des2/media5\n",
        "print('O Coeficiente de variação é %s',round(100*coef5, 2),'%' )"
      ],
      "execution_count": null,
      "outputs": []
    },
    {
      "cell_type": "code",
      "metadata": {
        "id": "e-u7YCdVbaTY"
      },
      "source": [
        "#6.Escreva em Python um algoritmo que solicite para o usuário inserir 3 notas de um aluno (entre 0 e 10). O programa deve calcular a média ponderada com os pesos 3, 4 e 3 para as 3 notas recebidas.\n",
        "CONT = 1\n",
        "PESOS = [3, 4, 3]\n",
        "NOTAS = []\n",
        "MP = 0\n",
        "while True:\n",
        "  if CONT < 4: #para verificar se já cadastrou a nota do aluno\n",
        "    aluno = input(f'Digite a nota do %s aluno (entre 0 e 10) ' %CONT)\n",
        "    try:\n",
        "      aluno = int(aluno)\n",
        "      if aluno >= 0 and aluno <= 10: # verificação da nota do aluno\n",
        "        NOTAS.append(aluno) # inserção da nota \n",
        "        CONT += 1 # + 1 na contagem \n",
        "      else:\n",
        "       print(f'A nota do {CONT} aluno tem que ser entre 0 e 10')\n",
        "    except:\n",
        "      print('Invalido!')\n",
        "  else:\n",
        "    break\n",
        "MP = ((NOTAS[0] * PESOS[0]) + (NOTAS[1] * PESOS[1]) + (NOTAS[2] * PESOS[2])) / (PESOS[0] + PESOS[1] + PESOS[2]) #Calculada por meio do somatório das multiplicações entre valores e pesos divididos pelo somatório dos pesos.\n",
        "print('A média ponderada dos valores é', MP)"
      ],
      "execution_count": null,
      "outputs": []
    }
  ]
}