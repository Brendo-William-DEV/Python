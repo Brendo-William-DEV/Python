{
  "nbformat": 4,
  "nbformat_minor": 0,
  "metadata": {
    "colab": {
      "name": "Cópia de Trab 5 - Regras.ipynb",
      "provenance": [],
      "collapsed_sections": []
    },
    "kernelspec": {
      "name": "python3",
      "display_name": "Python 3"
    },
    "language_info": {
      "name": "python"
    }
  },
  "cells": [
    {
      "cell_type": "code",
      "metadata": {
        "id": "JA52qTIS1I6J"
      },
      "source": [
        "Brendo William de Souza Faria - 20114290065\n",
        "Paulo Victor Moreira - 20214290002"
      ],
      "execution_count": null,
      "outputs": []
    },
    {
      "cell_type": "code",
      "metadata": {
        "id": "p8q46DWdbPWl"
      },
      "source": [
        "!pip install Orange3"
      ],
      "execution_count": null,
      "outputs": []
    },
    {
      "cell_type": "code",
      "metadata": {
        "colab": {
          "base_uri": "https://localhost:8080/"
        },
        "id": "SHTTeSW-afd5",
        "outputId": "1cead155-94dc-49d0-e560-bc95064ae64f"
      },
      "source": [
        "%reset -f\n",
        "import Orange\n",
        "import pandas as pd\n",
        "import numpy as np\n",
        "np.set_printoptions(threshold=np.inf)\n",
        "dados = Orange.data.Table('nursery.csv')\n",
        "cn2 = Orange.classification.rules.CN2Learner()\n",
        "regras_risco_credito = cn2(dados) # aqui e onde se cria as regras \n",
        "for regras in regras_risco_credito.rule_list: #aqui ele faz o if / else, qe mostra todas as regras existentes \n",
        "print(regras)"
      ],
      "execution_count": null,
      "outputs": [
        {
          "output_type": "stream",
          "name": "stdout",
          "text": [
            "IF health==not_recom THEN default=not_recom \n",
            "IF has_nurs==very_crit AND social==problematic AND form!=complete THEN default=spec_prior \n",
            "IF has_nurs==very_crit AND health==priority AND form!=complete THEN default=spec_prior \n",
            "IF has_nurs==very_crit AND housing==critical AND form!=complete THEN default=spec_prior \n",
            "IF has_nurs==very_crit AND social==problematic AND housing!=convenient THEN default=spec_prior \n",
            "IF has_nurs==very_crit AND health==priority AND housing!=convenient THEN default=spec_prior \n",
            "IF has_nurs==less_proper AND parents!=great_pret AND social==problematic THEN default=priority \n",
            "IF has_nurs==proper AND parents==pretentious AND social==problematic THEN default=priority \n",
            "IF parents==usual AND has_nurs==improper AND social==problematic THEN default=priority \n",
            "IF has_nurs==critical AND parents==great_pret AND social==problematic AND form!=complete THEN default=spec_prior \n",
            "IF has_nurs==proper AND parents==usual AND social==problematic THEN default=priority \n",
            "IF social==problematic AND housing==critical AND form!=complete THEN default=spec_prior \n",
            "IF social==problematic AND has_nurs==very_crit AND finance!=convenient THEN default=spec_prior \n",
            "IF has_nurs==very_crit AND health==priority AND finance!=convenient THEN default=spec_prior \n",
            "IF has_nurs==critical AND parents==pretentious AND health==priority AND form!=complete THEN default=spec_prior \n",
            "IF has_nurs==less_proper AND parents!=great_pret AND health==priority THEN default=priority \n",
            "IF has_nurs==proper AND parents==pretentious AND health==priority THEN default=priority \n",
            "IF parents==usual AND has_nurs==improper AND health==priority THEN default=priority \n",
            "IF social==problematic AND form==foster AND housing!=convenient THEN default=spec_prior \n",
            "IF parents==great_pret AND has_nurs==improper AND health==priority AND form!=complete THEN default=spec_prior \n",
            "IF has_nurs==critical AND parents==great_pret AND health==priority AND form!=complete THEN default=spec_prior \n",
            "IF has_nurs==proper AND parents==usual AND health==priority THEN default=priority \n",
            "IF health==priority AND housing==critical AND form!=complete THEN default=spec_prior \n",
            "IF housing==critical AND has_nurs==less_proper AND form!=complete THEN default=priority \n",
            "IF housing==critical AND has_nurs==proper AND form!=complete THEN default=priority \n",
            "IF parents==great_pret AND housing==critical AND form!=complete THEN default=spec_prior \n",
            "IF social==problematic AND finance!=convenient AND form==foster THEN default=spec_prior \n",
            "IF social==problematic AND form==foster AND parents==usual THEN default=priority \n",
            "IF health==priority AND housing!=convenient AND form==foster THEN default=spec_prior \n",
            "IF has_nurs==critical AND parents==pretentious AND social==problematic AND form!=complete THEN default=spec_prior \n",
            "IF social==problematic AND form==foster AND parents!=great_pret THEN default=priority \n",
            "IF social==problematic AND form==foster AND has_nurs!=improper THEN default=priority \n",
            "IF social==problematic AND form==foster THEN default=spec_prior \n",
            "IF has_nurs==critical AND parents==pretentious AND housing==critical AND form!=complete THEN default=spec_prior \n",
            "IF housing==critical AND form!=complete THEN default=priority \n",
            "IF social==problematic AND housing==critical AND has_nurs==critical AND parents==pretentious THEN default=spec_prior \n",
            "IF has_nurs==very_crit AND form==foster AND housing!=convenient THEN default=spec_prior \n",
            "IF has_nurs==critical AND housing==critical AND parents==great_pret AND social==problematic THEN default=spec_prior \n",
            "IF health==priority AND housing==critical AND has_nurs==critical AND parents==pretentious THEN default=spec_prior \n",
            "IF health==priority AND housing==critical AND has_nurs==improper AND parents!=pretentious THEN default=spec_prior \n",
            "IF health==priority AND housing==critical AND has_nurs==critical AND parents!=usual THEN default=spec_prior \n",
            "IF social==problematic AND housing==critical AND has_nurs==improper AND parents!=pretentious THEN default=spec_prior \n",
            "IF social==problematic AND has_nurs==very_crit THEN default=spec_prior \n",
            "IF form==foster AND housing!=convenient AND parents==usual THEN default=priority \n",
            "IF social==problematic AND housing==critical THEN default=spec_prior \n",
            "IF health==priority AND has_nurs==very_crit THEN default=spec_prior \n",
            "IF parents==great_pret AND has_nurs==improper AND social==problematic AND form!=complete THEN default=spec_prior \n",
            "IF parents==great_pret AND has_nurs==less_proper AND health!=priority AND form==foster THEN default=priority \n",
            "IF parents==great_pret AND has_nurs==proper AND health!=priority AND form==foster THEN default=priority \n",
            "IF has_nurs==critical AND parents==usual AND health!=priority AND form==foster THEN default=priority \n",
            "IF has_nurs==critical AND form==foster AND housing!=convenient THEN default=spec_prior \n",
            "IF parents==great_pret AND form==completed AND housing==convenient AND finance==convenient THEN default=priority \n",
            "IF health==priority AND finance!=convenient AND form==foster THEN default=spec_prior \n",
            "IF health==priority AND form==foster THEN default=priority \n",
            "IF parents==great_pret AND has_nurs==improper AND social==problematic AND housing!=convenient THEN default=spec_prior \n",
            "IF has_nurs==critical AND parents==usual AND health!=priority AND housing==critical THEN default=priority \n",
            "IF has_nurs==critical AND parents==usual AND health!=priority AND social==nonprob THEN default=priority \n",
            "IF parents==great_pret AND has_nurs==less_proper AND health!=priority AND housing==critical THEN default=priority \n",
            "IF has_nurs==very_crit AND finance==convenient AND form==foster THEN default=priority \n",
            "IF has_nurs==very_crit AND form==foster THEN default=spec_prior \n",
            "IF finance!=convenient AND form==foster AND parents==usual THEN default=priority \n",
            "IF housing!=convenient AND form==foster AND parents!=great_pret THEN default=priority \n",
            "IF has_nurs==very_crit AND housing==convenient AND finance==convenient THEN default=priority \n",
            "IF parents==great_pret AND has_nurs==proper AND health!=priority AND housing==critical THEN default=priority \n",
            "IF has_nurs==very_crit AND form==incomplete THEN default=spec_prior \n",
            "IF health==priority AND housing==critical THEN default=spec_prior \n",
            "IF housing==less_conv AND form==foster THEN default=spec_prior \n",
            "IF has_nurs==improper AND parents==pretentious AND form==foster THEN default=priority \n",
            "IF parents==great_pret AND has_nurs==critical AND social==problematic AND housing!=convenient THEN default=spec_prior \n",
            "IF parents==great_pret AND has_nurs==less_proper AND health!=priority AND social==nonprob THEN default=priority \n",
            "IF parents==great_pret AND has_nurs==proper AND health!=priority AND social==nonprob THEN default=priority \n",
            "IF has_nurs==improper AND parents==pretentious AND housing==critical THEN default=priority \n",
            "IF has_nurs==very_crit AND housing==critical THEN default=spec_prior \n",
            "IF has_nurs==critical AND housing==critical THEN default=spec_prior \n",
            "IF parents==great_pret AND housing==critical THEN default=spec_prior \n",
            "IF housing==critical THEN default=priority \n",
            "IF health==priority AND finance!=convenient AND form==incomplete THEN default=spec_prior \n",
            "IF parents==great_pret AND finance==convenient AND form==foster THEN default=priority \n",
            "IF parents==great_pret AND form==foster THEN default=spec_prior \n",
            "IF form==foster AND parents!=pretentious THEN default=very_recom \n",
            "IF finance!=convenient AND form==foster AND has_nurs!=critical THEN default=priority \n",
            "IF has_nurs==improper AND parents==pretentious AND housing==convenient AND finance==convenient THEN default=priority \n",
            "IF finance!=convenient AND form==foster THEN default=spec_prior \n",
            "IF form==foster AND has_nurs!=critical THEN default=very_recom \n",
            "IF form==foster THEN default=priority \n",
            "IF social==problematic AND parents==pretentious AND has_nurs==critical AND housing!=convenient THEN default=spec_prior \n",
            "IF health==priority AND parents==pretentious AND has_nurs==critical AND housing!=convenient THEN default=spec_prior \n",
            "IF health==priority AND has_nurs==improper AND parents==great_pret AND housing!=convenient THEN default=spec_prior \n",
            "IF parents==great_pret AND has_nurs==critical AND health==priority AND housing!=convenient THEN default=spec_prior \n",
            "IF parents==great_pret AND finance==convenient AND housing==convenient AND has_nurs==less_proper THEN default=priority \n",
            "IF social==problematic AND parents==pretentious AND has_nurs==critical AND finance!=convenient THEN default=spec_prior \n",
            "IF social==problematic AND has_nurs==improper AND parents==great_pret AND finance!=convenient THEN default=spec_prior \n",
            "IF has_nurs==critical AND parents==usual AND social==slightly_prob AND health!=priority THEN default=priority \n",
            "IF parents==great_pret AND has_nurs==proper AND social==slightly_prob AND health!=priority THEN default=priority \n",
            "IF has_nurs==critical AND finance==convenient AND housing==convenient AND parents==usual THEN default=priority \n",
            "IF health==priority AND has_nurs==critical AND parents==great_pret AND finance!=convenient THEN default=spec_prior \n",
            "IF health==priority AND form==incomplete AND housing==convenient THEN default=priority \n",
            "IF health==priority AND has_nurs==critical AND parents==pretentious AND finance!=convenient THEN default=spec_prior \n",
            "IF health==priority AND has_nurs==improper AND parents==great_pret AND finance!=convenient THEN default=spec_prior \n",
            "IF social==problematic AND has_nurs==critical AND parents==great_pret AND finance!=convenient THEN default=spec_prior \n",
            "IF health==priority AND form==incomplete THEN default=spec_prior \n",
            "IF parents==great_pret AND has_nurs==less_proper AND social==slightly_prob AND form==incomplete THEN default=priority \n",
            "IF social==problematic AND form==incomplete AND parents!=great_pret THEN default=spec_prior \n",
            "IF social==problematic AND form==incomplete AND has_nurs!=proper THEN default=spec_prior \n",
            "IF parents==great_pret AND has_nurs==less_proper AND social==slightly_prob AND health!=priority THEN default=priority \n",
            "IF has_nurs==improper AND parents==pretentious AND form==incomplete THEN default=priority \n",
            "IF social==problematic AND has_nurs==critical AND parents==pretentious THEN default=spec_prior \n",
            "IF has_nurs==critical AND form==incomplete AND housing!=convenient THEN default=spec_prior \n",
            "IF has_nurs==critical AND form==incomplete AND finance==convenient THEN default=priority \n",
            "IF has_nurs==critical AND form==incomplete THEN default=spec_prior \n",
            "IF has_nurs==critical AND parents==pretentious AND health==priority THEN default=spec_prior \n",
            "IF has_nurs==critical AND parents==pretentious AND housing==convenient AND finance==convenient THEN default=priority \n",
            "IF parents==great_pret AND form==incomplete AND housing!=convenient THEN default=spec_prior \n",
            "IF parents==great_pret AND form==incomplete AND finance==convenient THEN default=priority \n",
            "IF form==incomplete AND finance==convenient AND housing==convenient THEN default=very_recom \n",
            "IF parents==great_pret AND form==incomplete THEN default=spec_prior \n",
            "IF form==incomplete THEN default=priority \n",
            "IF has_nurs==improper AND parents==pretentious AND health!=priority AND social==nonprob THEN default=priority \n",
            "IF parents==great_pret AND has_nurs==proper AND housing==convenient AND finance==convenient THEN default=priority \n",
            "IF social==problematic AND housing==convenient AND finance==convenient THEN default=spec_prior \n",
            "IF health==priority AND housing==convenient AND finance==convenient THEN default=spec_prior \n",
            "IF parents==great_pret AND housing==convenient AND finance==convenient THEN default=priority \n",
            "IF parents!=usual AND has_nurs==improper AND social==slightly_prob AND parents!=great_pret AND health!=priority THEN default=priority \n",
            "IF parents==great_pret THEN default=priority \n",
            "IF has_nurs==less_proper AND housing==convenient AND finance==convenient THEN default=very_recom \n",
            "IF has_nurs==proper AND housing==convenient AND finance==convenient AND parents!=usual THEN default=very_recom \n",
            "IF has_nurs==proper AND form!=complete AND housing==convenient AND finance==convenient THEN default=very_recom \n",
            "IF has_nurs==critical THEN default=spec_prior \n",
            "IF parents!=pretentious AND has_nurs==improper AND housing==convenient AND finance==convenient THEN default=very_recom \n",
            "IF has_nurs==less_proper THEN default=priority \n",
            "IF has_nurs==very_crit THEN default=spec_prior \n",
            "IF social==problematic THEN default=priority \n",
            "IF health==priority THEN default=spec_prior \n",
            "IF parents==pretentious THEN default=priority \n",
            "IF has_nurs==improper THEN default=very_recom \n",
            "IF form!=complete THEN default=very_recom \n",
            "IF housing!=convenient THEN default=very_recom \n",
            "IF finance==convenient THEN default=very_recom \n",
            "IF parents==usual THEN default=very_recom \n",
            "IF TRUE THEN default=not_recom \n"
          ]
        }
      ]
    },
    {
      "cell_type": "code",
      "metadata": {
        "colab": {
          "base_uri": "https://localhost:8080/"
        },
        "id": "HD6cqTbgc-fU",
        "outputId": "b1b8af04-f983-4e36-d54c-57b550d04ab5"
      },
      "source": [
        "%reset -f\n",
        "import Orange\n",
        "import pandas as pd\n",
        "import numpy as np\n",
        "np.set_printoptions(threshold=np.inf)\n",
        "dados = Orange.data.Table('nursery.csv')\n",
        "base_dividida = Orange.evaluation.testing.sample(dados, n = 0.25)#aqui sera a parte da divisão \n",
        "base_teste = base_dividida[0] #o compnente 0 serta a base de teste \n",
        "base_treinamento = base_dividida[1] #e o componente 1 sera a base de treinamento \n",
        "print(len(base_teste))\n",
        "print(len(base_treinamento))"
      ],
      "execution_count": null,
      "outputs": [
        {
          "output_type": "stream",
          "name": "stdout",
          "text": [
            "3240\n",
            "9720\n"
          ]
        }
      ]
    },
    {
      "cell_type": "code",
      "metadata": {
        "colab": {
          "base_uri": "https://localhost:8080/"
        },
        "id": "Mu6ZcKfmbTlZ",
        "outputId": "3f11afbb-8826-411d-ad67-30060418e5a5"
      },
      "source": [
        "%reset -f\n",
        "import Orange\n",
        "import pandas as pd #as tres bibliotecas \n",
        "import numpy as np\n",
        "np.set_printoptions(threshold=np.inf)\n",
        "dados = Orange.data.Table('nursery.csv') #aqui importamos os dados do csv pra variavel dados\n",
        "base_dividida = Orange.evaluation.testing.sample(dados, n = 0.25)\n",
        "base_teste = base_dividida[0]\n",
        "base_treinamento = base_dividida[1]\n",
        "cn2 = Orange.classification.rules.CN2Learner() #cria uma variavel para criar uma avaliação por regras\n",
        "classificador = cn2(base_treinamento) #e coloca na variavel de treinamento \n",
        "previsoes = Orange.evaluation.testing.TestOnTestData(base_treinamento, base_teste, [lambda testdata: classificador]) #parametros de regras como são criadas e executadas \n",
        "print(Orange.evaluation.CA(previsoes)) # faz a previsão de teste e treinamento "
      ],
      "execution_count": null,
      "outputs": [
        {
          "output_type": "stream",
          "name": "stdout",
          "text": [
            "[0.91697531]\n"
          ]
        }
      ]
    }
  ]
}