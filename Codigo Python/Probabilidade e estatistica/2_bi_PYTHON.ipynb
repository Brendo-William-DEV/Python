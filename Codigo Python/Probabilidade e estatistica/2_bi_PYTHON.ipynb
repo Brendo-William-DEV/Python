{
  "nbformat": 4,
  "nbformat_minor": 0,
  "metadata": {
    "colab": {
      "name": "2 bi PYTHON.ipynb",
      "provenance": [],
      "collapsed_sections": []
    },
    "kernelspec": {
      "name": "python3",
      "display_name": "Python 3"
    }
  },
  "cells": [
    {
      "cell_type": "code",
      "metadata": {
        "id": "HMK9UTw7e1DI"
      },
      "source": [
        "print('a'=='b')\n",
        "print(2.00==2)\n",
        "print(2>2)\n",
        "print(9>5>3>=3<1)\n",
        "print(9>15 and 5>3 and 3>=3 and 3>1)\n",
        "print(4>3 or 5>5)\n",
        "print(not(4>3 or 5>5))"
      ],
      "execution_count": null,
      "outputs": []
    },
    {
      "cell_type": "code",
      "metadata": {
        "id": "h5gSiM_HxzYq"
      },
      "source": [
        "fome = False\n",
        "if fome:\n",
        "  print('Comida!')\n",
        "else:\n",
        "  print('Sem fome')\n",
        "\n",
        "print(\"-------\")\n",
        "\n",
        "  fome = True\n",
        "if fome:\n",
        "  print('Comida!')\n",
        "else:\n",
        "  print('Sem fome')\n",
        "\n",
        "print(\"-------\")\n",
        "\n",
        "loc = 'casa'\n",
        "if loc == 'Banco':\n",
        "  print('Estou no Banco')\n",
        "elif loc == 'Lava Jato':\n",
        "  print('Estou no Lava Jato')\n",
        "elif loc == 'Loja':\n",
        "  print('Estou na Loja')\n",
        "else:\n",
        "  print('Estou em outro lugar')\n",
        "\n",
        "print(\"-------\")\n",
        "\n",
        "loc = input('Incira a onde vc esta:')# a diferença desse pro de cima e pq esse e um input \n",
        "if loc == 'Banco':\n",
        "  print('Estou no Banco')\n",
        "elif loc == 'Lava Jato':\n",
        "  print('Estou no Lava Jato')\n",
        "elif loc == 'Loja':\n",
        "  print('Estou na Loja')\n",
        "else:\n",
        "  print('Estou em outro lugar')\n"
      ],
      "execution_count": null,
      "outputs": []
    },
    {
      "cell_type": "code",
      "metadata": {
        "id": "JUTOXDC72BXz",
        "colab": {
          "base_uri": "https://localhost:8080/"
        },
        "outputId": "09051f4e-ebe9-44b8-b339-c014e9a42502"
      },
      "source": [
        "#condicional 'in'\n",
        "frase = 'Meu cachorro escapou e numca mais voltou'\n",
        "if 'cachorro' in frase:   # esse 'in' serve pra saber se a algo dentro da frse\n",
        "  print('A palavra cachorro existe')\n",
        "else:\n",
        "  print('A palavra cachorro NÃO existe')\n",
        "\n",
        "print(\"-------\")\n",
        "\n",
        "frase = 'Meu Cachorro escapou e numca mais voltou'\n",
        "if 'cachorro' in frase:\n",
        "  print('A palavra cachorro existe')\n",
        "else:\n",
        "  print('A palavra cachorro NÃO existe')\n",
        "\n",
        "print(\"-------\")\n",
        "\n",
        "frase = 'Meu CaChorrO escapou e numca mais voltou'\n",
        "if 'cachorro' in frase.lower(): # 'lower' para receber tanto maiusula quanto minuscula \n",
        "  print('A palavra cachorro existe')\n",
        "else:\n",
        "  print('A palavra cachorro NÃO existe')\n",
        "\n",
        "print(\"-------\")\n",
        "\n",
        "lista = [4, 'carro', 5.5, True]\n",
        "if 4 in lista:\n",
        "  print('Presente')\n",
        "else:\n",
        "  print('Ausente')\n"
      ],
      "execution_count": null,
      "outputs": [
        {
          "output_type": "stream",
          "text": [
            "A palavra cachorro existe\n",
            "-------\n",
            "A palavra cachorro NÃO existe\n",
            "-------\n",
            "A palavra cachorro existe\n",
            "-------\n",
            "Presente\n"
          ],
          "name": "stdout"
        }
      ]
    },
    {
      "cell_type": "code",
      "metadata": {
        "id": "dRWV7Z6gOsbQ"
      },
      "source": [
        "#FOR (lope)\n",
        "lista1 = [2, 3, 5, 7, 11, 13]\n",
        "for _ in lista1: # O _ (ANDERLINE) executa na sequencia dos paremetros da lista.\n",
        "  cubo = _*_*_ #Ele nessa posição esta fazendo a matematica a o cubo  \n",
        "  print('O valor ao quadrado de', _, 'é:', _*_)#(multiplica '*') a o quadrado .\n",
        "  print('O valor ao cubo de', _, 'é:', cubo)#A variavel cubo enta sendo executada aqui \n",
        "\n",
        "print(\"-------\")\n",
        "\n",
        "lista2 = ['Luiz', 'João', 'Carlos', 'Maria']\n",
        "sobrenome = 'Silva'\n",
        "for _ in lista2:\n",
        "  print(_ + ' ' + sobrenome)#concatenando e dando o sombre nome \n",
        "\n",
        "print(\"-------\")\n",
        "\n",
        "#RENGE(funciona com numeros)\n",
        "numeros = range(2, 12, 3) # Começo em 2, vou até antes do 12 e aumento de 3 em 3\n",
        "print(type(numeros))#renge(e uma termo igual as listas e strings, q serve para )\n",
        "print(list(numeros))\n",
        "for _ in numeros:\n",
        "  if _ % 2 == 0:# pra ver se e, se o _ for dividido por 2 e for igual a 0 então ele e par \n",
        "    print('O valor', _, 'é par')\n",
        "  else:\n",
        "    print('O valor', _, 'é impar')\n",
        "\n",
        "print(\"-------\")\n",
        "\n",
        "lista4 = list(range(2, 1001, 2))#imprime de 2 a 1000 de 2 em 2, ou seja so os pares \n",
        "print(lista4)\n",
        "\n",
        "print(\"-------\")\n",
        "\n",
        "lista5 = [(1,2,3), (4,5,6), (7,8,9), (10,11,12)]\n",
        "for _ in lista5:\n",
        "  print(_)\n",
        "print('---------')\n",
        "for x,y,z in lista5:#cada um assume o valor dentro dos parentezes \n",
        "  print(x, y*y, z*z*z)#usando os simbolos, vc faz os cauculos usando os termos 'x,y,z'\n",
        "\n",
        "print('---------')\n",
        "\n",
        "dic = {'a':10, 'b':20, 'c':30}\n",
        "for _ in dic:\n",
        "  print(_)\n",
        "print('------')\n",
        "for _ in dic.values():#values mostra o valor da string na lista \n",
        "  print(_)"
      ],
      "execution_count": null,
      "outputs": []
    },
    {
      "cell_type": "code",
      "metadata": {
        "id": "462VZ-jkjMWc"
      },
      "source": [
        "a = 3\n",
        "b = 7\n",
        "c = 2\n",
        "print(list(range(a+1,b-2,c)))"
      ],
      "execution_count": null,
      "outputs": []
    },
    {
      "cell_type": "code",
      "metadata": {
        "id": "Ah_NjB6xYFKg"
      },
      "source": [
        "#FOR Parte.2\n",
        "lista6 = ['a', 'b', 'c', 'd', 'e', 'f']\n",
        "for _ in range(0,len(lista6)):  # range --> 0 ,1, 2, 3, 4, 5 (lendo a lista6 de numerando as posições e mostrando o q  nelas)\n",
        "  print('O valor da posição', _, 'é:', lista6[_])\n",
        "\n",
        "print('------')\n",
        "\n",
        "  # Multiplicar 2 valores a cada iteração\n",
        "lista7 = [10, 11, 12, 13, 14, 15, 16, 17]\n",
        "for _ in range(0,len(lista7)-1): # Range de _ --> 0 - 6\n",
        "  mult = lista7[_]*lista7[_+1]#a parte da multiplicação , esse +1 serve pra ir mais uma casa a diante nos termos de lista7\n",
        "  print('A multiplicação de', lista7[_], 'vezes', lista7[_+1], 'é:', mult)\n",
        "# 1º --> _ = 0; mult = 10*11\n",
        "# 2º --> _ = 1; mult = 11*12\n",
        "# 3º --> _ = 2; mult = 12*13\n",
        "# ...\n",
        "# 7º --> _ = 6; mult = 16*17\n",
        "\n",
        "print('------')\n",
        "\n",
        "str1 = 'Justiça indefere 10 mil candidaturas'\n",
        "alvo = '0'\n",
        "for _ in str1:\n",
        "  if _ == alvo:\n",
        "    print('Caractere', alvo, 'encontrado! INTERRUPÇÃO ')\n",
        "    break #quebra o lope \n",
        "else:\n",
        "  print(_)\n",
        "\n",
        "print('------')\n",
        "\n",
        "str1 = 'Justiça indefere 10 mil candidaturas'\n",
        "alvo = '0'\n",
        "for _ in str1:\n",
        "  if _ == alvo:\n",
        "    print('Caractere', alvo, 'encontrado! INTERRUPÇÃO MOMENTANEA')\n",
        "    continue # continua a frase\n",
        "  print(_)\n",
        "\n",
        "  print('------')\n",
        "#Exemplo-anulo.1\n",
        "  alunos = ['a1', 'a2', 'a3', 'a4', 'a5', 'a6']\n",
        "for _ in alunos:\n",
        "  nota = float(input('Insira a nota do aluno ' + _ + ': '))\n",
        "  if nota<0 or nota>10:# para tirar os erros do usuario\n",
        "    print('Nota do aluno', _, 'inválida!')\n",
        "  elif nota<5:# elif para continuar e variar os termos\n",
        "    print('O aluno', _, 'está REPROVADO')\n",
        "  else:\n",
        "    print('O aluno', _, 'está APROVADO')\n",
        "  "
      ],
      "execution_count": null,
      "outputs": []
    },
    {
      "cell_type": "code",
      "metadata": {
        "id": "Kgk2Zeriqlxz"
      },
      "source": [
        "#WHILE ()\n",
        "x = 8\n",
        "while x <= 10:\n",
        "  print(x)\n",
        "  x+=1  # x = x + 1\n",
        "\n",
        "  print('------')\n",
        "\n",
        "#Exemplo-anulo.2\n",
        "  alunos = ['a1', 'a2', 'a3', 'a4', 'a5', 'a6']\n",
        "for _ in alunos:\n",
        "  nota = float(input('Insira a nota do aluno ' + _ + ': '))\n",
        "  if nota<0 or nota>10:\n",
        "    while True: #A diferença entre essa exemplo e q o while torna o luipe enfinito, ate o usuario incerir algo valido.\n",
        "      print('Nota do aluno', _, 'inválida!')\n",
        "      nota = float(input('Insira uma nota ENTRE 0 E 10 para o aluno ' + _ + ': '))\n",
        "      if nota >= 0 and nota<=10:\n",
        "        break\n",
        "  if nota<5:\n",
        "    print('O aluno', _, 'está REPROVADO')\n",
        "  else:\n",
        "    print('O aluno', _, 'está APROVADO')"
      ],
      "execution_count": null,
      "outputs": []
    },
    {
      "cell_type": "code",
      "metadata": {
        "id": "iZrllwW3tHUv"
      },
      "source": [
        "#ENUMERATE\n",
        "pal = 'muito cedo'\n",
        "for x,y in enumerate(pal):#nesse laço for,x interage mostrando a posição e y o valor percorrendo a string.\n",
        "  print(x,y)\n",
        "print('----------')\n",
        "lista8 = ['Luiz', 74, 'João', 65, 'Carlos', 'Maria'] #aqui mostra a numeração em lista \n",
        "for x,y in enumerate(lista8):\n",
        "  print(x,y)"
      ],
      "execution_count": null,
      "outputs": []
    },
    {
      "cell_type": "code",
      "metadata": {
        "id": "1s0Ib3GJujgG",
        "colab": {
          "base_uri": "https://localhost:8080/"
        },
        "outputId": "61ae1cb8-5c8b-444e-e6ac-0c7cb85b5b0c"
      },
      "source": [
        "#ZIP\n",
        "nomes = ['a1', 'a2', 'a3', 'a4']\n",
        "notas = [5, 2, 6.5, 4.9]\n",
        "turma = ['manhã', 'noite', 'manhã', 'manhã']#zip vinculas as listas nomes e notas \n",
        "for x,y,z in zip(nomes, turma, notas): #quanto mais listas mais termos dentro do for devem ser inceridos \n",
        "  print('O aluno ' + x + ' estuda no período da '+ y +' e teve a nota:', z)"
      ],
      "execution_count": null,
      "outputs": [
        {
          "output_type": "stream",
          "text": [
            "O aluno a1 estuda no período da manhã e teve a nota: 5\n",
            "O aluno a2 estuda no período da noite e teve a nota: 2\n",
            "O aluno a3 estuda no período da manhã e teve a nota: 6.5\n",
            "O aluno a4 estuda no período da manhã e teve a nota: 4.9\n"
          ],
          "name": "stdout"
        }
      ]
    },
    {
      "cell_type": "code",
      "metadata": {
        "id": "vi7kqfnvw66M"
      },
      "source": [
        "#COUNT \n",
        "pal = 'mississipi' \n",
        "print(pal.count('a'))#mostra quantos termos iguais a na questão "
      ],
      "execution_count": null,
      "outputs": []
    },
    {
      "cell_type": "code",
      "metadata": {
        "id": "Bvi2z-tvxwcA"
      },
      "source": [
        "#MINIMO e MAXIMO\n",
        "num = [45, 26, 8.5, 35.1, 13.4, 85.4, 37.4]\n",
        "print(min(num))\n",
        "print(max(num))#retorna o minimo e o maximo da lista "
      ],
      "execution_count": null,
      "outputs": []
    },
    {
      "cell_type": "code",
      "metadata": {
        "id": "6bcwSaRQyKFE"
      },
      "source": [
        "#SHUFFLE\n",
        "from random import shuffle #random jera numero pseudo-aleatórios\n",
        "num = [45, 26, 8.5, 35.1, 13.4, 85.4, 37.4]\n",
        "shuffle(num) #ordenou a lista de forma aleatoria\n",
        "print(num)"
      ],
      "execution_count": null,
      "outputs": []
    },
    {
      "cell_type": "code",
      "metadata": {
        "id": "H4Vkzk5UyrjI"
      },
      "source": [
        "# crie uma lista com valores não repetidos\n",
        "# e na faixa de 1 até 10\n",
        "from random import shuffle #random jera numero pseudo-aleatórios\n",
        "num = list(range(1,11))\n",
        "print(num)\n",
        "shuffle(num)\n",
        "print(num)"
      ],
      "execution_count": null,
      "outputs": []
    }
  ]
}