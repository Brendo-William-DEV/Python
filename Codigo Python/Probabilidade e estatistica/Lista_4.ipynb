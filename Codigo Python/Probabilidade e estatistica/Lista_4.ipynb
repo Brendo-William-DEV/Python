{
  "nbformat": 4,
  "nbformat_minor": 0,
  "metadata": {
    "colab": {
      "name": "Lista 4",
      "provenance": [],
      "collapsed_sections": []
    },
    "kernelspec": {
      "name": "python3",
      "display_name": "Python 3"
    }
  },
  "cells": [
    {
      "cell_type": "code",
      "metadata": {
        "id": "6JtdGfCMSkh6"
      },
      "source": [
        "# Disciplina: Probabilidade e Estatística\n",
        "# Aluno: Brendo William de Souza Faria\n",
        "# Lista 4\n"
      ],
      "execution_count": null,
      "outputs": []
    },
    {
      "cell_type": "code",
      "metadata": {
        "id": "S-Rd0u59Z5W5"
      },
      "source": [
        "#1. Escreva um programa para ler o número de lados de um polígono regular e a medida do lado (em cm). Calcular e imprimir o seguinte: − Se o número de lados for igual a 3 escrever TRIÂNGULO e o valor da área − Se o número de lados for igual a 4 escrever QUADRADO e o valor da sua área. − Se o número de lados for igual a 5 escrever PENTÁGONO.\n",
        "\n",
        "Poligono = input('Incira o poligono:')# para inserir o polígono \n",
        "cm = input('Incira o os cm:')# inserir os CM\n",
        "if Poligono == '3': #se for igual \n",
        "  print('TRIÂNGULO é possui',cm, 'cm')# mostrar na tela \n",
        "elif Poligono == '4': #se for igual \n",
        "  print('QUADRADO é possui',cm, 'cm')# mostrar na tela \n",
        "elif Poligono == '5': #se for igual \n",
        "  print('PENTÁGONO é possui',cm, 'cm') # mostrar na tela \n",
        "else: #se não for nenhum \n",
        "  print('E outro Poligono')"
      ],
      "execution_count": null,
      "outputs": []
    },
    {
      "cell_type": "code",
      "metadata": {
        "id": "4ItDembuc0Np"
      },
      "source": [
        "# 2. Acrescente as seguintes mensagens à solução do exercício anterior conforme o caso. − Caso o número de lados seja inferior a 3 escrever NÃO É UM POLÍGONO. − Caso o número de lados seja superior a 5 escrever POLÍGONO NÃO IDENTIFICADO.\n",
        "Poligono = input('Incira o poligono:')# para inserir o polígono \n",
        "cm = input('Incira o os cm:')# inserir os CM\n",
        "if Poligono<3 or Poligono>5:\n",
        "  while True:\n",
        "    print('POLÍGONO NÃO IDENTIFICADO')\n",
        "    Poligono =(input('Insira um valor maior que 3 e menor que 5' ))\n",
        "    if Poligono>=3 and Poligono<=5:\n",
        "        break\n",
        "if Poligono == '3': #se for igual \n",
        "   print('TRIÂNGULO é possui',cm, 'cm')# mostrar na tela \n",
        "elif Poligono == '4': #se for igual \n",
        "   print('QUADRADO é possui',cm, 'cm')# mostrar na tela \n",
        "elif Poligono == '5': #se for igual \n",
        "   print('PENTÁGONO é possui',cm, 'cm') # mostrar na tela \n"
      ],
      "execution_count": null,
      "outputs": []
    },
    {
      "cell_type": "code",
      "metadata": {
        "id": "_yjYngLclM-6"
      },
      "source": [
        "# 3. Escreva um programa para ler 3 valores inteiros e escrever o maior deles. Considere que o usuário não informará valores iguais\n",
        "numero1 = int(input('Insira o primeiro valor: '))#Inserir nos 3 \n",
        "numero2 = int(input('Insira o segundo valor: '))\n",
        "numero3 = int(input('Insira o terceiro valor: '))\n",
        "print('O maior numero é ', max(numero3,numero2,numero1))#MAX para saber o maior \n"
      ],
      "execution_count": null,
      "outputs": []
    },
    {
      "cell_type": "code",
      "metadata": {
        "id": "m3hcaRS80CUL"
      },
      "source": [
        "#4. Escreva um programa que leia as medidas dos lados de um triângulo e escreva se ele é Equilátero, Isósceles ou Escaleno. Sendo que: − Triângulo Equilátero: possui os 3 lados iguais. − Triângulo Isóscele: possui 2 lados iguais. − Triângulo Escaleno: possui 3 lados diferentes.\n",
        "lado1 = float(input('Insira a medida 1 : '))\n",
        "lado2 = float(input('Insira a medida 2 : '))\n",
        "lado3 = float(input('Insira a medida 3 : '))\n",
        "if lado1 < lado2 + lado3 and lado2 < lado1 + lado3 and lado3 < lado1 + lado2:\n",
        "  print('Os segmentos acima podem formar um: ')\n",
        "  if lado1 == lado2 == lado3:\n",
        "    print('Triângulo EQUILÁTERO')\n",
        "  elif lado1 != lado2 != lado3 != lado1: # se todos forem diferentes formam escaleno\n",
        "    print('Triângulo ESCALENO')\n",
        "  else:\n",
        "    print('Triângulo ISÓSCELES') # Não forem nem iguais nem diferentes\n",
        "else:\n",
        "  print('Não podem formar triângulo')\n",
        "\n"
      ],
      "execution_count": null,
      "outputs": []
    },
    {
      "cell_type": "code",
      "metadata": {
        "id": "T4BVu7YIcrQh"
      },
      "source": [
        "# 5. Escreva um programa que leia o valor de 3 ângulos de um triângulo e escreva se o triângulo é Acutângulo, Retângulo ou Obtusângulo. Sendo que: − Triângulo Retângulo: possui um ângulo reto. (igual a 90º) − Triângulo Obtusângulo: possui um ângulo obtuso. (maior que90º) − Triângulo Acutângulo: possui três ângulos agudos. (menor que 90º)\n",
        "\n",
        "Ang1 = int(input('Insira o valor do ângulo 1 '))\n",
        "Ang2 = int(input('Insira o valor do ângulo 2 '))\n",
        "Ang3 = int(input('Insira o valor do ângulo 3 '))\n",
        "\n",
        "if Ang1 == 90 or Ang2 == 90 or Ang3 == 90 :\n",
        "  if Ang1 == 90 and Ang2 == 60 and Ang3 == 30: # Os angulos tem que ser 90 \n",
        "    print('Triângulo é retângulo')\n",
        "  elif Ang1 == 60 and Ang2 == 30 and Ang3 == 90: #Os outros tem que ser 30  60\n",
        "    print('Triângulo é retângulo')\n",
        "  elif Ang1 == 30 and Ang2 == 90 and Ang3 == 60: #E 60\n",
        "    print('Triângulo é retângulo')\n",
        "elif Ang1 > 90 or Ang2 > 90 or Ang3 > 90: # para ser obtuângulo, tem que ser maior que 90 \n",
        "  if Ang1 + Ang2 + Ang3 == 180: #valor de todos os ângulos tem que dar 180\n",
        "    print('Triângulo é Obtusângulo')\n",
        "  else:\n",
        "    print('Impossibilitado de identificar o triângulo')\n",
        "elif Ang1 < 90 and Ang2 < 90 and Ang3 < 90: #Todos os ângulos tem que ser menor que 90\n",
        "  print('Triângulo é Acutângulo')"
      ],
      "execution_count": null,
      "outputs": []
    },
    {
      "cell_type": "code",
      "metadata": {
        "id": "dNTzlPwSkCW_"
      },
      "source": [
        "# 6. Faça um programa para ler um número inteiro e imprimir todos os números de 0 até o número lido.\n",
        "numero = int(input('Digite um numero inteiro '))\n",
        "\n",
        "for _ in range(0, numero + 1):\n",
        "  print( _ )"
      ],
      "execution_count": null,
      "outputs": []
    },
    {
      "cell_type": "code",
      "metadata": {
        "colab": {
          "base_uri": "https://localhost:8080/"
        },
        "id": "folvHAIzhF3L",
        "outputId": "e8ed79d5-bc4f-4c69-ab4f-8365d2a6c015"
      },
      "source": [
        "#7. Solicitar um número entre 1 e 4. Se a pessoas digitar um número diferente, mostrar a mensagem \"entrada inválida\" e solicitar o número novamente. Se digitar correto mostrar o número digitado.\n",
        "numero = int(input('Digite um numero entre 1 e 4 '))\n",
        "while True:\n",
        "  if numero > 1 and numero < 4: #Separa o q pode entrar no parametro\n",
        "    print('O numero digitado é:', numero)\n",
        "    break\n",
        "  else:\n",
        "    print('Invalida')\n",
        "    numero = int(input('Escreva um numero entre 1 e 4 '))"
      ],
      "execution_count": null,
      "outputs": [
        {
          "output_type": "stream",
          "text": [
            "Digite um numero entre 1 e 4 3\n",
            "O numero digitado é: 3\n"
          ],
          "name": "stdout"
        }
      ]
    },
    {
      "cell_type": "code",
      "metadata": {
        "id": "DBb2gJEAp6dd"
      },
      "source": [
        "#8. Fazer um programa que receba vários valores inteiros no teclado (um valor a cada iteração) e determine o maior dos colocados desde o inicio do programa. A condição de término do programa é quando o usuário digitar zero.\n",
        "\n",
        "numero = input('Insira um número inteiro ou dijite 0 pra sair ')\n",
        "valores = list() # lista para salvar os resultados\n",
        "\n",
        "while True:\n",
        "  if numero == '0':\n",
        "    break\n",
        "  elif not numero.isdigit():\n",
        "    print(\"Digite um números!\")\n",
        "    numero = input('Insira algum número inteiro ou escreva 0 para sair ')\n",
        "  else:\n",
        "    valores.append(numero)\n",
        "    valores = sorted(valores, key=int) #lista de forma ordenada\n",
        "    indice = len(valores) - 1\n",
        "    print('Dentre os números adicionados o numero', valores[indice] ,'é o maior!')\n",
        "    numero = input('Digite qualquer número inteiro ou escreva zero para sair ')"
      ],
      "execution_count": null,
      "outputs": []
    },
    {
      "cell_type": "code",
      "metadata": {
        "id": "NgpYG3MrvGDl"
      },
      "source": [
        "#9. Escreva um programa Python que leia um número inteiro positivo de 4 dígitos, calcule e mostre a sua decomposição em unidade, dezena, centena e milhar: Exemplo: 8531; unidade = 1 dezena = 3 centena = 5 5 milhar = 8\n",
        "numero = input('Digite um número inteiro positivo de 4 dígitos ')\n",
        "while True:\n",
        "  if numero.isdigit():\n",
        "    numero = int(numero)\n",
        "    if int(numero) > 999 and int(numero) < 9999:# media \n",
        "      resultado = str(numero)\n",
        "      print('unidade = %s, dezena = %s, centena = %s, milhar = %s' % (resultado[3], resultado[2], resultado[1], resultado[0]))#posiciona as U,D,C \n",
        "      break\n",
        "    else:\n",
        "      print('Error - Numero invalido!')\n",
        "      numero = input('Escreva um número inteiro positivo de 4 dígitos ')\n",
        "  else:\n",
        "    print(\"Digite apenas números!\")\n",
        "    numero = input('Escreva um número inteiro positivo de 4 dígitos ')"
      ],
      "execution_count": null,
      "outputs": []
    }
  ]
}