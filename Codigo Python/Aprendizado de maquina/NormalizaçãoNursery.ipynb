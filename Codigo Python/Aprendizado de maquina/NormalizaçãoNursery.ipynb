{
  "nbformat": 4,
  "nbformat_minor": 0,
  "metadata": {
    "colab": {
      "name": "NormalizaçãoNursery.ipynb",
      "provenance": []
    },
    "kernelspec": {
      "name": "python3",
      "display_name": "Python 3"
    },
    "language_info": {
      "name": "python"
    }
  },
  "cells": [
    {
      "cell_type": "code",
      "metadata": {
        "id": "w4_-tDIpmIvn"
      },
      "source": [
        "!pip install plotly --upgrade"
      ],
      "execution_count": null,
      "outputs": []
    },
    {
      "cell_type": "code",
      "metadata": {
        "id": "gSholhc3mQ_W"
      },
      "source": [
        "%reset -f\n",
        "import pandas as pd\n",
        "import numpy as np\n",
        "import seaborn as sns\n",
        "import matplotlib.pyplot as plt\n",
        "import plotly.express as px\n",
        "np.set_printoptions(threshold=np.inf)\n",
        "base_nursery = pd.read_csv('nursery.csv')\n",
        "print(base_nursery)\n",
        "print('--------------')\n",
        "print(base_nursery.describe())"
      ],
      "execution_count": null,
      "outputs": []
    },
    {
      "cell_type": "code",
      "metadata": {
        "id": "XGGjXcDL6nIF"
      },
      "source": [
        "#Gráfico e Nulos\n",
        "%reset -f\n",
        "import pandas as pd\n",
        "import numpy as np\n",
        "import seaborn as sns\n",
        "import matplotlib.pyplot as plt\n",
        "import plotly.express as px\n",
        "np.set_printoptions(threshold=np.inf)\n",
        "base_nursery = pd.read_csv('nursery.csv')\n",
        "print(base_nursery.isnull().sum())\n",
        "np.unique(base_nursery['c#'], return_counts=True)\n",
        "sns.countplot(x = base_nursery['c#']);"
      ],
      "execution_count": null,
      "outputs": []
    },
    {
      "cell_type": "code",
      "metadata": {
        "id": "HInIWIbI9WqW"
      },
      "source": [
        "#Só gráfico\n",
        "%reset -f\n",
        "import pandas as pd\n",
        "import numpy as np\n",
        "import seaborn as sns\n",
        "import matplotlib.pyplot as plt\n",
        "import plotly.express as px\n",
        "np.set_printoptions(threshold=np.inf)\n",
        "base_nursery = pd.read_csv('nursery.csv')\n",
        "np.unique(base_nursery['c#'], return_counts=True)\n",
        "plt.hist(x = base_nursery['c#']);"
      ],
      "execution_count": null,
      "outputs": []
    },
    {
      "cell_type": "code",
      "metadata": {
        "id": "L5r9DUGY-Jiu",
        "colab": {
          "base_uri": "https://localhost:8080/"
        },
        "outputId": "fc5490ea-e40a-48b0-864f-e6e5a404f628"
      },
      "source": [
        "#Colunas\n",
        "%reset -f\n",
        "import pandas as pd\n",
        "import numpy as np\n",
        "import seaborn as sns\n",
        "import matplotlib.pyplot as plt\n",
        "import plotly.express as px\n",
        "np.set_printoptions(threshold=np.inf)\n",
        "base_nursery = pd.read_csv('nursery.csv')\n",
        "print(base_nursery.columns)"
      ],
      "execution_count": null,
      "outputs": [
        {
          "output_type": "stream",
          "name": "stdout",
          "text": [
            "Index(['parents', 'has_nurs', 'form', 'children', 'housing', 'finance',\n",
            "       'social', 'health', 'c#'],\n",
            "      dtype='object')\n"
          ]
        }
      ]
    },
    {
      "cell_type": "code",
      "metadata": {
        "id": "qI372bCT-hgO",
        "colab": {
          "base_uri": "https://localhost:8080/"
        },
        "outputId": "f9676b4d-c72e-4c56-e3e9-a6eb888443f3"
      },
      "source": [
        "%reset -f\n",
        "import pandas as pd\n",
        "import numpy as np\n",
        "import seaborn as sns\n",
        "import matplotlib.pyplot as plt\n",
        "import plotly.express as px\n",
        "np.set_printoptions(threshold=np.inf)\n",
        "base_nursery = pd.read_csv('nursery.csv')\n",
        "X_nursery = base_nursery.iloc[:,0:8].values\n",
        "print(X_nursery[1])"
      ],
      "execution_count": null,
      "outputs": [
        {
          "output_type": "stream",
          "name": "stdout",
          "text": [
            "['usual' 'proper' 'complete' '1' 'convenient' 'convenient' 'nonprob'\n",
            " 'priority']\n"
          ]
        }
      ]
    },
    {
      "cell_type": "code",
      "metadata": {
        "id": "jxJsVHo0-5_u",
        "colab": {
          "base_uri": "https://localhost:8080/"
        },
        "outputId": "ec0d2126-b0d7-40d6-d11c-4b0e6069eff0"
      },
      "source": [
        "%reset -f\n",
        "import pandas as pd\n",
        "import numpy as np\n",
        "import seaborn as sns\n",
        "import matplotlib.pyplot as plt\n",
        "import plotly.express as px\n",
        "np.set_printoptions(threshold=np.inf)\n",
        "base_nursery = pd.read_csv('nursery.csv')\n",
        "X_nursery = base_nursery.iloc[:,0:8].values\n",
        "Y_nursery = base_nursery.iloc[:,8].values\n",
        "print(Y_nursery[1])"
      ],
      "execution_count": null,
      "outputs": [
        {
          "output_type": "stream",
          "name": "stdout",
          "text": [
            "priority\n"
          ]
        }
      ]
    },
    {
      "cell_type": "code",
      "metadata": {
        "id": "QGmjOH8t_OIW",
        "colab": {
          "base_uri": "https://localhost:8080/"
        },
        "outputId": "d941f761-1061-4ced-ddf5-b21046e9cc87"
      },
      "source": [
        "%reset -f\n",
        "import pandas as pd\n",
        "import numpy as np\n",
        "import seaborn as sns\n",
        "import matplotlib.pyplot as plt\n",
        "import plotly.express as px\n",
        "np.set_printoptions(threshold=np.inf)\n",
        "base_nursery = pd.read_csv('nursery.csv')\n",
        "X_nursery = base_nursery.iloc[:,0:8].values\n",
        "Y_nursery = base_nursery.iloc[:,8].values\n",
        "from sklearn.preprocessing import OneHotEncoder\n",
        "from sklearn.compose import ColumnTransformer\n",
        "onehotencoder_nursery = ColumnTransformer(transformers=[('OneHot', OneHotEncoder(), [0,1,2,3,4,5,6,7])], remainder='passthrough')\n",
        "X_nursery = onehotencoder_nursery.fit_transform(X_nursery).toarray()\n",
        "print(X_nursery[0])\n",
        "print('-----------')\n",
        "print(X_nursery.shape)"
      ],
      "execution_count": null,
      "outputs": [
        {
          "output_type": "stream",
          "name": "stdout",
          "text": [
            "[0. 0. 1. 0. 0. 0. 1. 0. 1. 0. 0. 0. 1. 0. 0. 0. 1. 0. 0. 1. 0. 1. 0. 0.\n",
            " 0. 0. 1.]\n",
            "-----------\n",
            "(12960, 27)\n"
          ]
        }
      ]
    },
    {
      "cell_type": "code",
      "metadata": {
        "id": "6_mTlhYpBE6n",
        "colab": {
          "base_uri": "https://localhost:8080/"
        },
        "outputId": "c9013921-49a2-4bb6-fe3b-11a9d814418b"
      },
      "source": [
        "%reset -f\n",
        "import pandas as pd\n",
        "import numpy as np\n",
        "import seaborn as sns\n",
        "import matplotlib.pyplot as plt\n",
        "import plotly.express as px\n",
        "np.set_printoptions(threshold=np.inf)\n",
        "base_nursery = pd.read_csv('nursery.csv')\n",
        "X_nursery = base_nursery.iloc[:,0:8].values\n",
        "Y_nursery = base_nursery.iloc[:,8].values\n",
        "from sklearn.preprocessing import OneHotEncoder\n",
        "from sklearn.compose import ColumnTransformer\n",
        "onehotencoder_nursery = ColumnTransformer(transformers=[('OneHot', OneHotEncoder(), [0,1,2,3,4,5,6,7])], remainder='passthrough')\n",
        "X_nursery = onehotencoder_nursery.fit_transform(X_nursery).toarray()\n",
        "from sklearn.preprocessing import StandardScaler\n",
        "scaler_nursery = StandardScaler()\n",
        "X_nursery = scaler_nursery.fit_transform(X_nursery)\n",
        "print(X_nursery[0])"
      ],
      "execution_count": null,
      "outputs": [
        {
          "output_type": "stream",
          "name": "stdout",
          "text": [
            "[-0.70710678 -0.70710678  1.41421356 -0.5        -0.5        -0.5\n",
            "  2.         -0.5         1.73205081 -0.57735027 -0.57735027 -0.57735027\n",
            "  1.73205081 -0.57735027 -0.57735027 -0.57735027  1.41421356 -0.70710678\n",
            " -0.70710678  1.         -1.          1.41421356 -0.70710678 -0.70710678\n",
            " -0.70710678 -0.70710678  1.41421356]\n"
          ]
        }
      ]
    },
    {
      "cell_type": "code",
      "metadata": {
        "id": "zcX_VJJFBcWP"
      },
      "source": [
        "%reset -f\n",
        "import pandas as pd\n",
        "import numpy as np\n",
        "import seaborn as sns\n",
        "import matplotlib.pyplot as plt\n",
        "import plotly.express as px\n",
        "import pickle\n",
        "np.set_printoptions(threshold=np.inf)\n",
        "base_nursery = pd.read_csv('nursery.csv')\n",
        "X_nursery = base_nursery.iloc[:,0:8].values\n",
        "Y_nursery = base_nursery.iloc[:,8].values\n",
        "from sklearn.preprocessing import OneHotEncoder\n",
        "from sklearn.compose import ColumnTransformer\n",
        "onehotencoder_nursery = ColumnTransformer(transformers=[('OneHot', OneHotEncoder(), [0,1,2,3,4,5,6,7])], remainder='passthrough')\n",
        "X_nursery = onehotencoder_nursery.fit_transform(X_nursery).toarray()\n",
        "from sklearn.preprocessing import StandardScaler\n",
        "scaler_nursery = StandardScaler()\n",
        "X_nursery = scaler_nursery.fit_transform(X_nursery)\n",
        "from sklearn.model_selection import train_test_split\n",
        "X_nursery_treinamento, X_nursery_teste, Y_nursery_treinamento, Y_nursery_teste = train_test_split(X_nursery, Y_nursery, test_size = 0.15, random_state = 0)\n",
        "with open('nursery.pkl', mode = 'wb') as f: pickle.dump([X_nursery_treinamento, Y_nursery_treinamento, X_nursery_teste, Y_nursery_teste], f)"
      ],
      "execution_count": null,
      "outputs": []
    }
  ]
}