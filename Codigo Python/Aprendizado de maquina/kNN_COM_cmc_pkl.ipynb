{
  "nbformat": 4,
  "nbformat_minor": 0,
  "metadata": {
    "colab": {
      "name": "kNN COM cmc.pkl ",
      "provenance": []
    },
    "kernelspec": {
      "name": "python3",
      "display_name": "Python 3"
    },
    "language_info": {
      "name": "python"
    }
  },
  "cells": [
    {
      "cell_type": "code",
      "metadata": {
        "id": "XduAIjSdjuei"
      },
      "source": [
        "Brendo William de Souza Faria / 20114290065"
      ],
      "execution_count": null,
      "outputs": []
    },
    {
      "cell_type": "code",
      "metadata": {
        "colab": {
          "base_uri": "https://localhost:8080/"
        },
        "id": "26ritB8zN5T7",
        "outputId": "10af9af1-d750-49d7-8034-b90a349986d8"
      },
      "source": [
        "%reset -f\n",
        "import pickle\n",
        "with open('cmc.pkl', 'rb') as f:  \n",
        "  X_cmc_treinamento, y_cmc_treinamento, X_cmc_teste, y_cmc_teste = pickle.load(f) #exportando as 4 variareis \n",
        "from sklearn.neighbors import KNeighborsClassifier #exportando o Classifier \n",
        "knn_cmc = KNeighborsClassifier(n_neighbors=5, metric='minkowski', p = 2) #fazemos o treinamento das variáveis para construir e comparar com o teste x. \n",
        "knn_cmc.fit(X_cmc_treinamento, y_cmc_treinamento)\n",
        "previsoes = knn_cmc.predict(X_cmc_teste)\n",
        "print(previsoes)\n",
        "print('-----------')\n",
        "print(y_cmc_teste) #printa o y teste para comparação visual "
      ],
      "execution_count": null,
      "outputs": [
        {
          "output_type": "stream",
          "name": "stdout",
          "text": [
            "[1 1 1 2 2 1 3 1 1 2 3 3 2 1 3 2 1 3 1 1 1 3 1 1 1 1 3 1 1 2 1 3 3 1 1 1 1\n",
            " 1 2 3 3 1 1 2 3 1 2 2 3 2 1 1 1 2 1 1 3 1 3 1 1 1 2 3 1 3 3 1 2 3 1 2 3 1\n",
            " 1 3 2 3 1 1 3 3 3 1 3 1 3 3 1 1 2 1 1 1 3 1 2 3 3 1 1 2 1 3 1 2 1 3 3 2 3\n",
            " 3 1 1 3 1 3 1 1 2 3 3 1 3 2 1 1 1 2 3 2 1 1 3 2 3 2 2 1 3 1 1 3 3 1 1 1 1\n",
            " 2 1 1 2 1 1 3 1 2 1 1 3 3 3 1 1 2 1 3 3 2 3 2 1 3 3 1 3 1 3 2 3 2 3 1 3 2\n",
            " 1 1 2 1 2 1 3 2 3 1 3 1 2 1 2 1 1 1 1 3 1 3 1 1 1 1 1 1 1 3 2 1 1 3 3 3 1\n",
            " 1 1 1 3 2 1 1 1 2 3 1 1 1 1 1 3 2 1 2 3 1 1 3 1 1 2 1 3 2 1 2 1 3 3 1 3 3\n",
            " 1 3 1 3 2 1 3 1 1 1 1 3 2 3 2 3 3 3 3 2 1 2 3 1 3 3 1 3 1 2 3 1 3 2 1 2 3\n",
            " 3 1 1 3 3 2 3 3 1 2 1 1 2 2 3 3 1 2 1 1 3 1 3 3 1 1 1 3 1 2 1 3 1 2 1 2 2\n",
            " 2 3 1 2 2 1 3 3 1 2 1 3 3 3 1 2 1 2 1 3 2 1 2 2 3 1 3 3 2 2 1 3 3 2 2]\n",
            "-----------\n",
            "[1 3 2 2 1 1 1 3 3 1 1 3 1 3 2 2 3 3 3 2 2 3 1 3 1 1 1 3 1 1 1 1 2 2 3 2 3\n",
            " 2 1 1 3 2 3 2 1 1 1 1 1 2 2 3 1 1 1 2 2 2 3 1 1 2 2 1 1 1 1 1 2 1 3 3 1 1\n",
            " 3 1 2 2 3 2 1 2 2 2 3 1 2 1 3 1 2 2 2 1 2 3 2 3 3 1 1 2 1 3 1 1 1 2 1 2 1\n",
            " 1 1 1 1 3 3 1 1 2 1 3 3 3 1 1 2 1 1 3 2 1 2 1 3 3 3 1 1 1 1 3 1 3 1 2 1 3\n",
            " 3 3 1 1 3 1 2 2 2 1 1 1 3 1 3 3 1 1 3 1 2 3 2 1 1 1 2 2 1 2 3 3 1 1 1 2 1\n",
            " 1 3 1 2 2 1 3 1 3 1 3 3 2 2 1 1 1 3 1 1 3 2 2 1 3 1 1 1 3 3 2 1 3 1 2 2 1\n",
            " 1 1 3 3 2 3 1 1 2 3 3 3 1 1 1 3 3 3 3 3 1 3 2 1 3 3 1 3 1 3 2 1 2 1 1 1 1\n",
            " 1 3 3 3 1 1 3 2 1 1 1 3 2 3 2 3 3 3 3 2 1 1 1 3 3 2 3 1 3 2 2 1 3 1 3 1 1\n",
            " 3 1 3 3 1 2 1 1 2 2 3 3 1 3 2 2 2 2 1 2 2 2 2 3 3 1 2 3 1 3 1 3 1 3 1 2 2\n",
            " 3 3 1 3 1 1 1 1 1 1 1 2 3 2 2 2 2 2 3 3 2 1 3 2 1 1 3 3 2 2 2 2 3 3 2]\n"
          ]
        }
      ]
    },
    {
      "cell_type": "code",
      "metadata": {
        "colab": {
          "base_uri": "https://localhost:8080/",
          "height": 415
        },
        "id": "CLDYfvUePdKq",
        "outputId": "548fcc88-5824-47da-e253-1d4c023cbfe2"
      },
      "source": [
        "%reset -f\n",
        "import pickle\n",
        "with open('cmc.pkl', 'rb') as f:  \n",
        "  X_cmc_treinamento, y_cmc_treinamento, X_cmc_teste, y_cmc_teste = pickle.load(f) \n",
        "from sklearn.neighbors import KNeighborsClassifier \n",
        "knn_cmc = KNeighborsClassifier(n_neighbors=5, metric='minkowski', p = 2)\n",
        "knn_cmc.fit(X_cmc_treinamento, y_cmc_treinamento)\n",
        "previsoes = knn_cmc.predict(X_cmc_teste)\n",
        "from sklearn.metrics import accuracy_score, classification_report #para demonstrar a porcentagem de acerto do algoritmo \n",
        "accuracy_score(y_cmc_teste, previsoes)\n",
        "from yellowbrick.classifier import ConfusionMatrix # para demonstrar a matriz do código    \n",
        "cm = ConfusionMatrix(knn_cmc)\n",
        "cm.fit(X_cmc_treinamento, y_cmc_treinamento)\n",
        "cm.score(X_cmc_teste, y_cmc_teste)"
      ],
      "execution_count": null,
      "outputs": [
        {
          "output_type": "stream",
          "name": "stderr",
          "text": [
            "/usr/local/lib/python3.7/dist-packages/sklearn/utils/deprecation.py:144: FutureWarning: The sklearn.metrics.classification module is  deprecated in version 0.22 and will be removed in version 0.24. The corresponding classes / functions should instead be imported from sklearn.metrics. Anything that cannot be imported from sklearn.metrics is now part of the private API.\n",
            "  warnings.warn(message, FutureWarning)\n"
          ]
        },
        {
          "output_type": "execute_result",
          "data": {
            "text/plain": [
              "0.47282608695652173"
            ]
          },
          "metadata": {},
          "execution_count": 2
        },
        {
          "output_type": "display_data",
          "data": {
            "image/png": "[encoded data removed]",
            "text/plain": [
              "<Figure size 576x396 with 1 Axes>"
            ]
          },
          "metadata": {}
        }
      ]
    }
  ]
}