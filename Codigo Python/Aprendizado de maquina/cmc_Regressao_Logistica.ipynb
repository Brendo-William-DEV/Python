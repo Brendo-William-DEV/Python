{
  "nbformat": 4,
  "nbformat_minor": 0,
  "metadata": {
    "colab": {
      "name": "cmc Regressao-Logistica",
      "provenance": []
    },
    "kernelspec": {
      "name": "python3",
      "display_name": "Python 3"
    },
    "language_info": {
      "name": "python"
    }
  },
  "cells": [
    {
      "cell_type": "code",
      "metadata": {
        "id": "XETGTdqfP6TG"
      },
      "source": [
        "Brendo William de Souza Faria / 20114290065\n",
        "Paulo Victor Moreira - 20214290002"
      ],
      "execution_count": null,
      "outputs": []
    },
    {
      "cell_type": "code",
      "metadata": {
        "colab": {
          "base_uri": "https://localhost:8080/"
        },
        "id": "82Q5npKicNab",
        "outputId": "e7b107e4-3fd0-4ba5-8ac2-42f6cf208581"
      },
      "source": [
        "%reset -f\n",
        "import pickle\n",
        "with open('cmc.pkl', 'rb') as f:  \n",
        "  X_cmc_treinamento, y_cmc_treinamento, X_cmc_teste, y_cmc_teste = pickle.load(f) #tras os atributos de treinamento e teste\n",
        "from sklearn.linear_model import LogisticRegression #importa biblioteca, \n",
        "logistic_cmc = LogisticRegression(random_state = 1) #apica a variavel osde ira de inicialisar a logistica\n",
        "logistic_cmc.fit(X_cmc_treinamento, y_cmc_treinamento) #colocase as variaves para se treinar \n",
        "print(logistic_cmc.coef_) #Encontra-se todos os valores de B .\n"
      ],
      "execution_count": null,
      "outputs": [
        {
          "output_type": "stream",
          "name": "stdout",
          "text": [
            "[[ 0.40542908 -0.46699069 -0.02535244 -0.53449732  0.10588211 -0.03002469\n",
            "  -0.05682558 -0.15307066  0.05813292]\n",
            " [ 0.02463991  0.47260465 -0.02600234  0.29449621 -0.12207561  0.02549584\n",
            "  -0.08924797  0.11476397 -0.04989411]\n",
            " [-0.43006899 -0.00561396  0.05135478  0.24000111  0.0161935   0.00452885\n",
            "   0.14607355  0.03830669 -0.00823881]]\n"
          ]
        }
      ]
    },
    {
      "cell_type": "code",
      "metadata": {
        "colab": {
          "base_uri": "https://localhost:8080/"
        },
        "id": "lEVW4qvKeChC",
        "outputId": "d96bc69f-6ffb-4fb3-d525-fb2962a212ab"
      },
      "source": [
        "%reset -f\n",
        "import pickle\n",
        "with open('cmc.pkl', 'rb') as f:  \n",
        "  X_cmc_treinamento, y_cmc_treinamento, X_cmc_teste, y_cmc_teste = pickle.load(f) \n",
        "from sklearn.linear_model import LogisticRegression\n",
        "logistic_cmc = LogisticRegression(random_state = 1) \n",
        "logistic_cmc.fit(X_cmc_treinamento, y_cmc_treinamento)\n",
        "previsoes = logistic_cmc.predict(X_cmc_teste)#então se faz a previsão isando o teste \n",
        "print(previsoes) \n",
        "print('------------') #comparamos a previsão com o teste\n",
        "print(y_cmc_teste)"
      ],
      "execution_count": null,
      "outputs": [
        {
          "output_type": "stream",
          "name": "stdout",
          "text": [
            "[1 3 1 2 3 1 3 1 3 3 2 3 2 1 3 2 1 2 3 3 1 3 1 1 1 1 1 1 1 2 1 1 3 3 3 2 1\n",
            " 1 3 3 3 2 3 2 1 1 1 3 2 1 1 3 1 1 1 2 1 3 3 3 1 1 2 3 1 3 1 3 2 3 3 3 1 1\n",
            " 3 1 3 2 1 1 3 2 1 1 3 1 1 1 1 1 2 3 1 3 2 1 2 3 1 1 1 2 1 3 3 2 1 3 1 3 3\n",
            " 1 1 1 1 3 3 1 3 3 1 3 3 3 1 2 2 1 1 2 3 3 3 3 3 3 3 3 1 1 3 2 3 2 1 3 1 1\n",
            " 2 3 1 2 1 3 3 3 1 3 1 1 3 3 1 3 1 3 3 1 3 3 2 1 1 2 3 3 1 1 3 3 3 3 2 3 1\n",
            " 1 1 2 3 3 1 3 1 3 1 3 3 2 2 3 1 3 2 1 1 3 2 3 3 3 3 1 1 3 3 2 1 3 3 2 3 1\n",
            " 3 1 3 2 1 2 1 1 2 1 3 1 1 1 1 3 3 1 3 3 1 3 1 3 3 3 1 3 2 1 2 1 1 3 3 3 3\n",
            " 3 2 1 3 1 1 1 1 1 3 1 3 3 3 2 3 2 3 1 2 3 2 1 3 3 2 1 3 1 1 3 1 3 1 1 1 3\n",
            " 3 1 3 1 1 3 1 1 3 2 3 1 3 2 1 2 1 2 1 1 1 1 1 3 1 1 3 1 1 3 1 1 1 2 1 2 2\n",
            " 2 3 1 3 2 1 1 1 1 1 1 1 3 1 3 2 3 2 2 3 2 1 1 3 3 1 3 3 2 1 1 2 1 2 2]\n",
            "------------\n",
            "[1 3 2 2 1 1 1 3 3 1 1 3 1 3 2 2 3 3 3 2 2 3 1 3 1 1 1 3 1 1 1 1 2 2 3 2 3\n",
            " 2 1 1 3 2 3 2 1 1 1 1 1 2 2 3 1 1 1 2 2 2 3 1 1 2 2 1 1 1 1 1 2 1 3 3 1 1\n",
            " 3 1 2 2 3 2 1 2 2 2 3 1 2 1 3 1 2 2 2 1 2 3 2 3 3 1 1 2 1 3 1 1 1 2 1 2 1\n",
            " 1 1 1 1 3 3 1 1 2 1 3 3 3 1 1 2 1 1 3 2 1 2 1 3 3 3 1 1 1 1 3 1 3 1 2 1 3\n",
            " 3 3 1 1 3 1 2 2 2 1 1 1 3 1 3 3 1 1 3 1 2 3 2 1 1 1 2 2 1 2 3 3 1 1 1 2 1\n",
            " 1 3 1 2 2 1 3 1 3 1 3 3 2 2 1 1 1 3 1 1 3 2 2 1 3 1 1 1 3 3 2 1 3 1 2 2 1\n",
            " 1 1 3 3 2 3 1 1 2 3 3 3 1 1 1 3 3 3 3 3 1 3 2 1 3 3 1 3 1 3 2 1 2 1 1 1 1\n",
            " 1 3 3 3 1 1 3 2 1 1 1 3 2 3 2 3 3 3 3 2 1 1 1 3 3 2 3 1 3 2 2 1 3 1 3 1 1\n",
            " 3 1 3 3 1 2 1 1 2 2 3 3 1 3 2 2 2 2 1 2 2 2 2 3 3 1 2 3 1 3 1 3 1 3 1 2 2\n",
            " 3 3 1 3 1 1 1 1 1 1 1 2 3 2 2 2 2 2 3 3 2 1 3 2 1 1 3 3 2 2 2 2 3 3 2]\n"
          ]
        }
      ]
    },
    {
      "cell_type": "code",
      "metadata": {
        "colab": {
          "base_uri": "https://localhost:8080/",
          "height": 431
        },
        "id": "iyOAs8CEefG3",
        "outputId": "942df74e-dc95-4c90-fc7f-21822252129f"
      },
      "source": [
        "%reset -f\n",
        "import pickle\n",
        "with open('cmc.pkl', 'rb') as f:  \n",
        "  X_cmc_treinamento, y_cmc_treinamento, X_cmc_teste, y_cmc_teste = pickle.load(f) \n",
        "from sklearn.linear_model import LogisticRegression\n",
        "logistic_cmc = LogisticRegression(random_state = 1) \n",
        "logistic_cmc.fit(X_cmc_treinamento, y_cmc_treinamento)\n",
        "previsoes = logistic_cmc.predict(X_cmc_teste)\n",
        "from sklearn.metrics import accuracy_score, classification_report #para fazer a comparação e obtera resposta \n",
        "print(accuracy_score(y_cmc_teste, previsoes))\n",
        "from yellowbrick.classifier import ConfusionMatrix #mostra a resposta na matrix \n",
        "cm = ConfusionMatrix(logistic_cmc)\n",
        "cm.fit(X_cmc_treinamento, y_cmc_treinamento)\n",
        "cm.score(X_cmc_teste, y_cmc_teste)"
      ],
      "execution_count": null,
      "outputs": [
        {
          "output_type": "stream",
          "name": "stdout",
          "text": [
            "0.5543478260869565\n"
          ]
        },
        {
          "output_type": "stream",
          "name": "stderr",
          "text": [
            "/usr/local/lib/python3.7/dist-packages/sklearn/utils/deprecation.py:144: FutureWarning: The sklearn.metrics.classification module is  deprecated in version 0.22 and will be removed in version 0.24. The corresponding classes / functions should instead be imported from sklearn.metrics. Anything that cannot be imported from sklearn.metrics is now part of the private API.\n",
            "  warnings.warn(message, FutureWarning)\n"
          ]
        },
        {
          "output_type": "execute_result",
          "data": {
            "text/plain": [
              "0.5543478260869565"
            ]
          },
          "metadata": {},
          "execution_count": 3
        },
        {
          "output_type": "display_data",
          "data": {
            "image/png": "[encoded data removed]",
            "text/plain": [
              "<Figure size 576x396 with 1 Axes>"
            ]
          },
          "metadata": {}
        }
      ]
    }
  ]
}