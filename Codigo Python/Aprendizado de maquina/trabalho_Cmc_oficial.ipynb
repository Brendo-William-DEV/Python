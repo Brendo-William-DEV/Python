{
  "nbformat": 4,
  "nbformat_minor": 0,
  "metadata": {
    "colab": {
      "name": "trabalho Cmc oficial",
      "provenance": []
    },
    "kernelspec": {
      "name": "python3",
      "display_name": "Python 3"
    },
    "language_info": {
      "name": "python"
    }
  },
  "cells": [
    {
      "cell_type": "code",
      "metadata": {
        "id": "JSXc-qE_4QMo"
      },
      "source": [
        "Brendo William/ 20114290065\n",
        "Victor Manoel de Jesus/ 20114290053"
      ],
      "execution_count": null,
      "outputs": []
    },
    {
      "cell_type": "code",
      "metadata": {
        "colab": {
          "base_uri": "https://localhost:8080/"
        },
        "id": "Tu3qwS2U6z6l",
        "outputId": "7218a5a0-7f28-407b-ded0-b9db0e9fe79a"
      },
      "source": [
        "!pip install plotly --upgrade\n"
      ],
      "execution_count": null,
      "outputs": [
        {
          "output_type": "stream",
          "name": "stdout",
          "text": [
            "Requirement already satisfied: plotly in /usr/local/lib/python3.7/dist-packages (4.4.1)\n",
            "Collecting plotly\n",
            "  Downloading plotly-5.3.1-py2.py3-none-any.whl (23.9 MB)\n",
            "\u001b[K     |████████████████████████████████| 23.9 MB 14 kB/s \n",
            "\u001b[?25hCollecting tenacity>=6.2.0\n",
            "  Downloading tenacity-8.0.1-py3-none-any.whl (24 kB)\n",
            "Requirement already satisfied: six in /usr/local/lib/python3.7/dist-packages (from plotly) (1.15.0)\n",
            "Installing collected packages: tenacity, plotly\n",
            "  Attempting uninstall: plotly\n",
            "    Found existing installation: plotly 4.4.1\n",
            "    Uninstalling plotly-4.4.1:\n",
            "      Successfully uninstalled plotly-4.4.1\n",
            "Successfully installed plotly-5.3.1 tenacity-8.0.1\n"
          ]
        }
      ]
    },
    {
      "cell_type": "code",
      "metadata": {
        "colab": {
          "base_uri": "https://localhost:8080/"
        },
        "id": "IYk2YEjS44V3",
        "outputId": "84170a6b-6015-4989-b2d9-f9ca84329eb7"
      },
      "source": [
        "%reset -f\n",
        "import pickle\n",
        "with open('cmc.pkl', 'rb') as f:  \n",
        "  X_cmc_treinamento, y_cmc_treinamento, X_cmc_teste, y_cmc_teste = pickle.load(f)\n",
        "print(X_cmc_treinamento.shape)\n",
        "print(X_cmc_teste.shape)\n",
        "print(y_cmc_treinamento.shape)\n",
        "print(y_cmc_teste.shape)"
      ],
      "execution_count": null,
      "outputs": [
        {
          "output_type": "stream",
          "name": "stdout",
          "text": [
            "(1104, 9)\n",
            "(368, 9)\n",
            "(1104,)\n",
            "(368,)\n"
          ]
        }
      ]
    },
    {
      "cell_type": "code",
      "metadata": {
        "colab": {
          "base_uri": "https://localhost:8080/"
        },
        "id": "VZYVYEeb64OQ",
        "outputId": "4fefc553-1485-4496-9cc6-5379e01b8662"
      },
      "source": [
        "%reset -f\n",
        "import pickle\n",
        "with open('cmc.pkl', 'rb') as f:  \n",
        "  X_cmc_treinamento, y_cmc_treinamento, X_cmc_teste, y_cmc_teste = pickle.load(f)\n",
        "from sklearn.ensemble import RandomForestClassifier  # importação de biblioteca RandomFores\n",
        "random_forest_cmc = RandomForestClassifier(n_estimators = 40, criterion = 'entropy', random_state = 0) #aqui se coloca a estimativa dos parametros, variando de 10 a 100 / \n",
        "                                                                                                          #utilizando o criterio entropia / \n",
        "                                                                                                          #random_state: tras uma margem de aliatoriedade pra sua leitura. \n",
        "random_forest_cmc.fit(X_cmc_treinamento, y_cmc_treinamento) # utiliza os treinamentos para fazer o treinamento do codigo \n",
        "#abaixo aparece os parametros dos dados:"
      ],
      "execution_count": null,
      "outputs": [
        {
          "output_type": "execute_result",
          "data": {
            "text/plain": [
              "RandomForestClassifier(bootstrap=True, ccp_alpha=0.0, class_weight=None,\n",
              "                       criterion='entropy', max_depth=None, max_features='auto',\n",
              "                       max_leaf_nodes=None, max_samples=None,\n",
              "                       min_impurity_decrease=0.0, min_impurity_split=None,\n",
              "                       min_samples_leaf=1, min_samples_split=2,\n",
              "                       min_weight_fraction_leaf=0.0, n_estimators=40,\n",
              "                       n_jobs=None, oob_score=False, random_state=0, verbose=0,\n",
              "                       warm_start=False)"
            ]
          },
          "metadata": {},
          "execution_count": 3
        }
      ]
    },
    {
      "cell_type": "code",
      "metadata": {
        "colab": {
          "base_uri": "https://localhost:8080/"
        },
        "id": "mQqOojSh79DV",
        "outputId": "a34517ce-48d3-43e2-adaf-9ebee25fd342"
      },
      "source": [
        "%reset -f\n",
        "import pickle\n",
        "with open('cmc.pkl', 'rb') as f:  \n",
        "  X_cmc_treinamento, y_cmc_treinamento, X_cmc_teste, y_cmc_teste = pickle.load(f)\n",
        "from sklearn.ensemble import RandomForestClassifier\n",
        "random_forest_cmc = RandomForestClassifier(n_estimators = 40, criterion = 'entropy', random_state = 0)\n",
        "random_forest_cmc.fit(X_cmc_treinamento, y_cmc_treinamento) #usando o random_forest que ja foi treinado por x e y treinamento \n",
        "previsores = random_forest_cmc.predict(X_cmc_teste) #usace do teste para fazer a previsão do codigo\n",
        "print(previsores) #e aqui se compara, o q a maquina deu previsão \n",
        "print(y_cmc_teste)# e comparace com o teste pra ver a semelhança "
      ],
      "execution_count": null,
      "outputs": [
        {
          "output_type": "stream",
          "name": "stdout",
          "text": [
            "[1 1 3 2 2 1 3 3 3 3 3 3 3 1 2 2 1 3 2 1 1 3 1 2 1 1 3 1 1 3 1 3 3 1 3 1 1\n",
            " 1 3 3 3 2 3 1 1 1 1 2 3 3 1 1 1 2 1 1 1 1 1 1 1 2 2 3 1 3 1 1 3 3 2 3 1 1\n",
            " 2 2 1 3 1 1 3 1 1 2 3 1 1 3 1 1 2 1 1 3 3 1 3 3 3 1 1 2 1 3 3 1 1 3 3 2 3\n",
            " 1 1 1 1 1 3 1 1 3 3 3 1 1 3 1 1 1 1 3 2 2 1 3 3 3 1 3 1 3 1 2 3 3 1 2 1 1\n",
            " 2 1 3 1 3 1 3 1 3 3 1 3 3 3 1 3 2 3 3 1 2 3 2 1 1 2 2 3 1 1 3 1 1 3 1 1 3\n",
            " 1 3 2 1 2 1 1 2 3 1 3 3 2 1 3 1 1 1 1 1 3 2 2 3 3 3 1 1 3 3 3 1 1 3 1 3 1\n",
            " 3 1 3 3 2 3 1 1 1 1 1 1 3 1 1 3 1 1 3 3 1 1 3 1 3 3 1 3 3 1 3 1 3 1 3 3 3\n",
            " 1 2 3 3 1 1 1 2 1 1 1 3 2 3 3 3 3 3 3 2 1 1 1 1 3 3 3 1 1 2 3 1 3 2 1 1 3\n",
            " 3 1 1 1 1 3 3 1 3 3 1 3 2 2 1 3 3 2 1 1 3 1 3 3 1 1 1 1 1 3 1 1 1 2 1 2 2\n",
            " 1 3 1 2 2 1 3 3 1 3 1 3 3 1 3 2 1 2 2 3 3 1 1 3 1 1 3 3 2 2 3 3 3 2 2]\n",
            "[1 3 2 2 1 1 1 3 3 1 1 3 1 3 2 2 3 3 3 2 2 3 1 3 1 1 1 3 1 1 1 1 2 2 3 2 3\n",
            " 2 1 1 3 2 3 2 1 1 1 1 1 2 2 3 1 1 1 2 2 2 3 1 1 2 2 1 1 1 1 1 2 1 3 3 1 1\n",
            " 3 1 2 2 3 2 1 2 2 2 3 1 2 1 3 1 2 2 2 1 2 3 2 3 3 1 1 2 1 3 1 1 1 2 1 2 1\n",
            " 1 1 1 1 3 3 1 1 2 1 3 3 3 1 1 2 1 1 3 2 1 2 1 3 3 3 1 1 1 1 3 1 3 1 2 1 3\n",
            " 3 3 1 1 3 1 2 2 2 1 1 1 3 1 3 3 1 1 3 1 2 3 2 1 1 1 2 2 1 2 3 3 1 1 1 2 1\n",
            " 1 3 1 2 2 1 3 1 3 1 3 3 2 2 1 1 1 3 1 1 3 2 2 1 3 1 1 1 3 3 2 1 3 1 2 2 1\n",
            " 1 1 3 3 2 3 1 1 2 3 3 3 1 1 1 3 3 3 3 3 1 3 2 1 3 3 1 3 1 3 2 1 2 1 1 1 1\n",
            " 1 3 3 3 1 1 3 2 1 1 1 3 2 3 2 3 3 3 3 2 1 1 1 3 3 2 3 1 3 2 2 1 3 1 3 1 1\n",
            " 3 1 3 3 1 2 1 1 2 2 3 3 1 3 2 2 2 2 1 2 2 2 2 3 3 1 2 3 1 3 1 3 1 3 1 2 2\n",
            " 3 3 1 3 1 1 1 1 1 1 1 2 3 2 2 2 2 2 3 3 2 1 3 2 1 1 3 3 2 2 2 2 3 3 2]\n"
          ]
        }
      ]
    },
    {
      "cell_type": "code",
      "metadata": {
        "colab": {
          "base_uri": "https://localhost:8080/",
          "height": 432
        },
        "id": "kFdeFQs_AJUU",
        "outputId": "f89d3ce1-c50e-4f8e-8485-be5b5a95ad69"
      },
      "source": [
        "%reset -f\n",
        "import pickle\n",
        "with open('cmc.pkl', 'rb') as f:  \n",
        "  X_cmc_treinamento, y_cmc_treinamento, X_cmc_teste, y_cmc_teste = pickle.load(f)\n",
        "from sklearn.ensemble import RandomForestClassifier\n",
        "random_forest_cmc = RandomForestClassifier(n_estimators = 40, criterion = 'entropy', random_state = 0)\n",
        "random_forest_cmc.fit(X_cmc_treinamento, y_cmc_treinamento)\n",
        "previsores = random_forest_cmc.predict(X_cmc_teste) #avaliace isso porcentagem \n",
        "from sklearn.metrics import accuracy_score, classification_report #accuracy_score: utilisace de tal para fazer a nota de previsão,\n",
        "print(accuracy_score(y_cmc_teste, previsores))#usace  a variavel para avaliar os dados e sua porcentagem de acerto, 52% codigo meodicre.\n",
        "from yellowbrick.classifier import ConfusionMatrix #aqui se importa uma biblioteca para mostrar a matrix do algoritimo.\n",
        "cm = ConfusionMatrix(random_forest_cmc)\n",
        "cm.fit(X_cmc_treinamento,y_cmc_treinamento)\n",
        "cm.score(X_cmc_teste,y_cmc_teste) #e isso mostra dados acertos e erros do codigo criado "
      ],
      "execution_count": null,
      "outputs": [
        {
          "output_type": "stream",
          "name": "stdout",
          "text": [
            "0.5217391304347826\n"
          ]
        },
        {
          "output_type": "stream",
          "name": "stderr",
          "text": [
            "/usr/local/lib/python3.7/dist-packages/sklearn/utils/deprecation.py:144: FutureWarning: The sklearn.metrics.classification module is  deprecated in version 0.22 and will be removed in version 0.24. The corresponding classes / functions should instead be imported from sklearn.metrics. Anything that cannot be imported from sklearn.metrics is now part of the private API.\n",
            "  warnings.warn(message, FutureWarning)\n"
          ]
        },
        {
          "output_type": "execute_result",
          "data": {
            "text/plain": [
              "0.5217391304347826"
            ]
          },
          "metadata": {},
          "execution_count": 5
        },
        {
          "output_type": "display_data",
          "data": {
            "image/png": "[encoded data removed]",
            "text/plain": [
              "<Figure size 576x396 with 1 Axes>"
            ]
          },
          "metadata": {}
        }
      ]
    },
    {
      "cell_type": "code",
      "metadata": {
        "colab": {
          "base_uri": "https://localhost:8080/",
          "height": 378
        },
        "id": "--Hcar-rBQeD",
        "outputId": "c00c2d8d-615a-4ca9-e0fe-c7fdb37bc071"
      },
      "source": [
        "%reset -f\n",
        "import pickle\n",
        "with open('cmc.pkl', 'rb') as f:  \n",
        "  X_cmc_treinamento, y_cmc_treinamento, X_cmc_teste, y_cmc_teste = pickle.load(f)\n",
        "from sklearn.ensemble import RandomForestClassifier\n",
        "random_forest_cmc = RandomForestClassifier(n_estimators = 80, criterion = 'entropy', random_state = 0) # varia estimadores \n",
        "random_forest_cmc.fit(X_cmc_treinamento, y_cmc_treinamento)\n",
        "previsores = random_forest_cmc.predict(X_cmc_teste)\n",
        "from sklearn.metrics import accuracy_score, classification_report\n",
        "print(accuracy_score(y_cmc_teste, previsores))\n",
        "from yellowbrick.classifier import ConfusionMatrix #aqui se importa uma biblioteca apra mostrar a matrix do algoritimo.\n",
        "cm = ConfusionMatrix(random_forest_cmc)\n",
        "cm.fit(X_cmc_treinamento,y_cmc_treinamento)\n",
        "cm.score(X_cmc_teste,y_cmc_teste) #e isso mostra dados acertos e erros do codigo criado "
      ],
      "execution_count": null,
      "outputs": [
        {
          "output_type": "stream",
          "name": "stdout",
          "text": [
            "0.5054347826086957\n"
          ]
        },
        {
          "output_type": "execute_result",
          "data": {
            "text/plain": [
              "0.5054347826086957"
            ]
          },
          "metadata": {},
          "execution_count": 6
        },
        {
          "output_type": "display_data",
          "data": {
            "image/png": "[encoded data removed]",
            "text/plain": [
              "<Figure size 576x396 with 1 Axes>"
            ]
          },
          "metadata": {}
        }
      ]
    },
    {
      "cell_type": "code",
      "metadata": {
        "colab": {
          "base_uri": "https://localhost:8080/",
          "height": 378
        },
        "id": "-JrRXajlDXpQ",
        "outputId": "93702862-ff18-41ab-d6e3-9aec716c60d7"
      },
      "source": [
        "%reset -f\n",
        "import pickle\n",
        "with open('cmc.pkl', 'rb') as f:  \n",
        "  X_cmc_treinamento, y_cmc_treinamento, X_cmc_teste, y_cmc_teste = pickle.load(f)\n",
        "from sklearn.ensemble import RandomForestClassifier\n",
        "random_forest_cmc = RandomForestClassifier(n_estimators = 100, criterion = 'entropy', random_state = 0) # maximo de variação estimadores \n",
        "random_forest_cmc.fit(X_cmc_treinamento, y_cmc_treinamento)\n",
        "previsores = random_forest_cmc.predict(X_cmc_teste)\n",
        "from sklearn.metrics import accuracy_score, classification_report\n",
        "print(accuracy_score(y_cmc_teste, previsores))\n",
        "from yellowbrick.classifier import ConfusionMatrix\n",
        "cm = ConfusionMatrix(random_forest_cmc)\n",
        "cm.fit(X_cmc_treinamento,y_cmc_treinamento)\n",
        "cm.score(X_cmc_teste,y_cmc_teste)"
      ],
      "execution_count": null,
      "outputs": [
        {
          "output_type": "stream",
          "name": "stdout",
          "text": [
            "0.5135869565217391\n"
          ]
        },
        {
          "output_type": "execute_result",
          "data": {
            "text/plain": [
              "0.5135869565217391"
            ]
          },
          "metadata": {},
          "execution_count": 8
        },
        {
          "output_type": "display_data",
          "data": {
            "image/png": "[encoded data removed]",
            "text/plain": [
              "<Figure size 576x396 with 1 Axes>"
            ]
          },
          "metadata": {}
        }
      ]
    }
  ]
}